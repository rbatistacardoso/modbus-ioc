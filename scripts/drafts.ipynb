{
 "cells": [
  {
   "cell_type": "code",
   "execution_count": 51,
   "metadata": {},
   "outputs": [],
   "source": [
    "from openpyxl import load_workbook\n",
    "workbook = load_workbook(filename='../etc/M1M Modbus map V1.2.xlsx')\n",
    "\n",
    "from string import Template\n",
    "ai_template = Template(\n",
    "    '''\n",
    "    record(ai, \"${pv_name}\") {\n",
    "        field(DESC, \"${desc}\")\n",
    "        field(DTYP,\"asynInt32\")\n",
    "        field(INP,\"@asyn($(PORT), ${register_addr}\")\n",
    "        field(LINR, \"NO CONVERSION\")\n",
    "        field(ESLO, \"1\")\n",
    "        field(EGUL, \"0\")\n",
    "        field(SCAN,\".1 second\")\n",
    "    }\n",
    "    '''\n",
    ")\n",
    "\n",
    "sheet = workbook['M1M registers map']\n",
    "sheet.cell(row=10, column=6).value\n",
    "\n",
    "ColNames = {}\n",
    "Current  = 0\n",
    "for COL in sheet.iter_cols(1, sheet.max_column):\n",
    "    ColNames[COL[0].value] = Current\n",
    "    Current += 1"
   ]
  },
  {
   "cell_type": "code",
   "execution_count": null,
   "metadata": {},
   "outputs": [],
   "source": [
    "# Write db file\n",
    "\n",
    "def to_camel(string: str):\n",
    "    if type(string) != None:\n",
    "        output = ''\n",
    "        for _ in range(len(string)):\n",
    "            if _>0 and string[_-1]==' ':\n",
    "                output += string[_].upper()\n",
    "            else:\n",
    "                output += string[_]\n",
    "        output = output.replace(\" \", \"\")\n",
    "        return output\n",
    "\n",
    "file = open('../ioc/database/st.db', 'w')\n",
    "for row_cells in sheet.iter_rows(2, sheet.max_row):\n",
    "    if row_cells[ColNames['Quantity/Functionality']].fill.start_color.index == 'FF00B050':\n",
    "        print(row_cells[ColNames['Quantity/Functionality']].value, row_cells[ColNames['Quantity/Functionality']])\n",
    "        if row_cells[ColNames['Quantity/Functionality']].value != None:\n",
    "            file.write(ai_template.safe_substitute(pv_name = to_camel(row_cells[ColNames['Quantity/Functionality']].value),\\\n",
    "                register_addr=row_cells[ColNames['Register\\n(Dec)']].value,\\\n",
    "                    desc=row_cells[ColNames['Quantity/Functionality']].value))\n",
    "\n",
    "file.close()"
   ]
  },
  {
   "cell_type": "code",
   "execution_count": 56,
   "metadata": {},
   "outputs": [
    {
     "data": {
      "text/plain": [
       "'ThreePhaseSystem'"
      ]
     },
     "execution_count": 56,
     "metadata": {},
     "output_type": "execute_result"
    }
   ],
   "source": [
    "a = \"Three phase system \"\n",
    "b = ''\n",
    "def to_camel(string: str):\n",
    "    if type(string) != None:\n",
    "        output = ''\n",
    "        for _ in range(len(string)):\n",
    "            if _>0 and string[_-1]==' ':\n",
    "                output += string[_].upper()\n",
    "            else:\n",
    "                output += string[_]\n",
    "        output = output.replace(\" \", \"\")\n",
    "        return output\n",
    "\n",
    "to_camel(a)"
   ]
  },
  {
   "cell_type": "code",
   "execution_count": 62,
   "metadata": {},
   "outputs": [],
   "source": [
    "# Testing serial\n",
    "\n",
    "from serial import Serial\n",
    "\n",
    "ser = Serial('/dev/pts/5')\n",
    "ser.write('oi'.encode())\n",
    "ser.close()"
   ]
  }
 ],
 "metadata": {
  "kernelspec": {
   "display_name": "holyShit",
   "language": "python",
   "name": "python3"
  },
  "language_info": {
   "codemirror_mode": {
    "name": "ipython",
    "version": 3
   },
   "file_extension": ".py",
   "mimetype": "text/x-python",
   "name": "python",
   "nbconvert_exporter": "python",
   "pygments_lexer": "ipython3",
   "version": "3.10.6"
  },
  "orig_nbformat": 4,
  "vscode": {
   "interpreter": {
    "hash": "2c33fddc139a657198772a46447f215e0a11219d48dc612e4d17122af310f362"
   }
  }
 },
 "nbformat": 4,
 "nbformat_minor": 2
}

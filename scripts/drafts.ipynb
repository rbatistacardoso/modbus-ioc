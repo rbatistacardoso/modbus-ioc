{
 "cells": [
  {
   "cell_type": "code",
   "execution_count": 1,
   "metadata": {},
   "outputs": [],
   "source": [
    "from openpyxl import load_workbook\n",
    "workbook = load_workbook(filename='../etc/M1MMODBUSMAPV1.0102856.XLSX')"
   ]
  },
  {
   "cell_type": "code",
   "execution_count": 2,
   "metadata": {},
   "outputs": [],
   "source": [
    "from string import Template\n",
    "ai_template = Template(\n",
    "    '''\n",
    "    record(ai, \"$(P):$(R):${pv_property}\") {\n",
    "        field(DESC, \"${desc}\")\n",
    "        field(DTYP,\"asynInt32\")\n",
    "        field(INP,\"@asyn($(PORT), ${register_addr}\")\n",
    "        field(LINR, \"NO CONVERSION\")\n",
    "        field(ESLO, \"1\")\n",
    "        field(EGUL, \"0\")\n",
    "        field(SCAN,\".1 second\")\n",
    "    }\n",
    "    '''\n",
    ")"
   ]
  },
  {
   "cell_type": "code",
   "execution_count": 4,
   "metadata": {},
   "outputs": [],
   "source": [
    "sheet = workbook['Map']\n",
    "sheet.cell(row=10, column=6).value\n",
    "\n",
    "## Create a dictionary of column names\n",
    "ColNames = {}\n",
    "Current  = 0\n",
    "for COL in sheet.iter_cols(1, sheet.max_column):\n",
    "    ColNames[COL[0].value] = Current\n",
    "    Current += 1\n",
    "# for row_cells in sheet.iter_rows():\n",
    "#     print(row_cells[ColNames['Reg (Dec)']].value)\n",
    "\n",
    "# print(sheet.cell(row=7, column=8).value)"
   ]
  },
  {
   "cell_type": "code",
   "execution_count": 6,
   "metadata": {},
   "outputs": [],
   "source": [
    "file = open('../ioc/database/st.db', 'w')\n",
    "for row_cells in sheet.iter_rows(2, sheet.max_row):\n",
    "    if row_cells[ColNames['PV property']].value != None:\n",
    "        file.write(ai_template.safe_substitute(pv_property=row_cells[ColNames['PV property']].value,\\\n",
    "            register_addr=row_cells[ColNames['Reg (Dec)']].value,\\\n",
    "                desc=row_cells[ColNames['Quantity/Functionality']].value))\n",
    "\n",
    "file.close()"
   ]
  }
 ],
 "metadata": {
  "kernelspec": {
   "display_name": "holyShit",
   "language": "python",
   "name": "python3"
  },
  "language_info": {
   "codemirror_mode": {
    "name": "ipython",
    "version": 3
   },
   "file_extension": ".py",
   "mimetype": "text/x-python",
   "name": "python",
   "nbconvert_exporter": "python",
   "pygments_lexer": "ipython3",
   "version": "3.10.6"
  },
  "orig_nbformat": 4,
  "vscode": {
   "interpreter": {
    "hash": "2c33fddc139a657198772a46447f215e0a11219d48dc612e4d17122af310f362"
   }
  }
 },
 "nbformat": 4,
 "nbformat_minor": 2
}
